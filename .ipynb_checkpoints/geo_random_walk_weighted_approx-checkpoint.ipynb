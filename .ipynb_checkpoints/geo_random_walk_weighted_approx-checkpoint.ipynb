{
 "cells": [
  {
   "cell_type": "code",
   "execution_count": 1,
   "metadata": {
    "collapsed": true
   },
   "outputs": [],
   "source": [
    "import numpy as np\n",
    "import networkx as nx\n",
    "\n",
    "import matplotlib.pyplot as plt\n",
    "%matplotlib inline"
   ]
  },
  {
   "cell_type": "code",
   "execution_count": 33,
   "metadata": {
    "collapsed": true
   },
   "outputs": [],
   "source": [
    "def kernel(g1, g2,lamb):\n",
    "    one = np.ones(g1.number_of_nodes())\n",
    "\n",
    "    A1 = nx.adjacency_matrix(g1.to_undirected()).todense()\n",
    "    \n",
    "    A2 = nx.adjacency_matrix(g2.to_undirected()).todense()\n",
    "\n",
    "    Lamb1,U1 = np.linalg.eigh(A1)\n",
    "    Lamb2,U2 = np.linalg.eigh(A2)\n",
    "    print(np.max(Lamb1), np.max(Lamb2))\n",
    "    \n",
    "    L = np.kron(one.transpose().dot(U1), one.transpose().dot(U2))\n",
    "    R = np.kron(U1.transpose().dot(one), U2.transpose().dot(one))\n",
    "    \n",
    "    D = 1/(1 - lamb*np.kron(Lamb1,Lamb2))\n",
    "    #D = np.exp(lamb*np.kron(Lamb1,Lamb2))\n",
    "    \n",
    "    k = L.dot(np.diag(D)).dot(R.transpose())\n",
    "    \n",
    "    return k\n",
    "\n",
    "def kernel_normalized(g1, g2,lamb):\n",
    "    one = np.ones(g1.number_of_nodes())\n",
    "\n",
    "    A1 = nx.adjacency_matrix(g1.to_undirected()).todense()\n",
    "    D1 = 1/(1 + A1.dot(one))\n",
    "    A1 = A1.dot(np.diag(1/(A1.dot(one) + 1).A.flatten()))\n",
    "    \n",
    "    A2 = nx.adjacency_matrix(g2.to_undirected()).todense()\n",
    "    A2 = A2.dot(np.diag(1/(A2.dot(one) + 1).A.flatten()))\n",
    "\n",
    "    Lamb1,U1 = np.linalg.eigh(A1)\n",
    "    Lamb2,U2 = np.linalg.eigh(A2)\n",
    "    print(np.max(Lamb1), np.max(Lamb2))\n",
    "    \n",
    "    L = np.kron(one.transpose().dot(U1), one.transpose().dot(U2))\n",
    "    R = np.kron(U1.transpose().dot(one), U2.transpose().dot(one))\n",
    "    \n",
    "    D = 1/(1 - lamb*np.kron(Lamb1,Lamb2))\n",
    "    #D = np.exp(lamb*np.kron(Lamb1,Lamb2))\n",
    "    \n",
    "    k = L.dot(np.diag(D)).dot(R.transpose())\n",
    "    \n",
    "    return k\n",
    "\n"
   ]
  },
  {
   "cell_type": "code",
   "execution_count": 9,
   "metadata": {},
   "outputs": [],
   "source": [
    "def pairwise_kernels(graphs,lamb):\n",
    "    n = len(graphs)\n",
    "    K = np.zeros((n,n))\n",
    "    for i in range(0,n):\n",
    "        for j in range(i,n):\n",
    "            k = kernel_normalized(graphs[i],graphs[j],lamb)\n",
    "            K[i,j] = k\n",
    "            K[j,i] = k\n",
    "    return K"
   ]
  },
  {
   "cell_type": "code",
   "execution_count": 32,
   "metadata": {
    "scrolled": true
   },
   "outputs": [
    {
     "name": "stdout",
     "output_type": "stream",
     "text": [
      "26210.8447438 26210.8447438\n",
      "26210.8447438 30468.7078124\n",
      "26210.8447438 28425.0718394\n",
      "26210.8447438 30439.0677045\n",
      "26210.8447438 31111.6763587\n",
      "26210.8447438 31191.9304578\n",
      "26210.8447438 28054.1639303\n",
      "30468.7078124 30468.7078124\n",
      "30468.7078124 28425.0718394\n",
      "30468.7078124 30439.0677045\n",
      "30468.7078124 31111.6763587\n",
      "30468.7078124 31191.9304578\n",
      "30468.7078124 28054.1639303\n",
      "28425.0718394 28425.0718394\n",
      "28425.0718394 30439.0677045\n",
      "28425.0718394 31111.6763587\n",
      "28425.0718394 31191.9304578\n",
      "28425.0718394 28054.1639303\n",
      "30439.0677045 30439.0677045\n",
      "30439.0677045 31111.6763587\n",
      "30439.0677045 31191.9304578\n",
      "30439.0677045 28054.1639303\n",
      "31111.6763587 31111.6763587\n",
      "31111.6763587 31191.9304578\n",
      "31111.6763587 28054.1639303\n",
      "31191.9304578 31191.9304578\n",
      "31191.9304578 28054.1639303\n",
      "28054.1639303 28054.1639303\n",
      "30356.4156334 30356.4156334\n",
      "30356.4156334 31642.8267216\n",
      "30356.4156334 29566.3612547\n",
      "30356.4156334 27764.6621042\n",
      "30356.4156334 29258.4043121\n",
      "30356.4156334 28011.0980254\n",
      "30356.4156334 25713.1364793\n",
      "31642.8267216 31642.8267216\n",
      "31642.8267216 29566.3612547\n",
      "31642.8267216 27764.6621042\n",
      "31642.8267216 29258.4043121\n",
      "31642.8267216 28011.0980254\n",
      "31642.8267216 25713.1364793\n",
      "29566.3612547 29566.3612547\n",
      "29566.3612547 27764.6621042\n",
      "29566.3612547 29258.4043121\n",
      "29566.3612547 28011.0980254\n",
      "29566.3612547 25713.1364793\n",
      "27764.6621042 27764.6621042\n",
      "27764.6621042 29258.4043121\n",
      "27764.6621042 28011.0980254\n",
      "27764.6621042 25713.1364793\n",
      "29258.4043121 29258.4043121\n",
      "29258.4043121 28011.0980254\n",
      "29258.4043121 25713.1364793\n",
      "28011.0980254 28011.0980254\n",
      "28011.0980254 25713.1364793\n",
      "25713.1364793 25713.1364793\n",
      "27257.4898768 27257.4898768\n",
      "27257.4898768 28333.3595675\n",
      "27257.4898768 29245.7406843\n",
      "27257.4898768 29837.691956\n",
      "27257.4898768 30658.6539622\n",
      "27257.4898768 29137.5213426\n",
      "27257.4898768 26032.8143144\n",
      "28333.3595675 28333.3595675\n",
      "28333.3595675 29245.7406843\n",
      "28333.3595675 29837.691956\n",
      "28333.3595675 30658.6539622\n",
      "28333.3595675 29137.5213426\n",
      "28333.3595675 26032.8143144\n",
      "29245.7406843 29245.7406843\n",
      "29245.7406843 29837.691956\n",
      "29245.7406843 30658.6539622\n",
      "29245.7406843 29137.5213426\n",
      "29245.7406843 26032.8143144\n",
      "29837.691956 29837.691956\n",
      "29837.691956 30658.6539622\n",
      "29837.691956 29137.5213426\n",
      "29837.691956 26032.8143144\n",
      "30658.6539622 30658.6539622\n",
      "30658.6539622 29137.5213426\n",
      "30658.6539622 26032.8143144\n",
      "29137.5213426 29137.5213426\n",
      "29137.5213426 26032.8143144\n",
      "26032.8143144 26032.8143144\n",
      "26442.8221974 26442.8221974\n",
      "26442.8221974 26704.5422675\n",
      "26442.8221974 24601.4107561\n",
      "26442.8221974 13718.1950746\n",
      "26442.8221974 20556.4915493\n",
      "26442.8221974 21071.3705474\n",
      "26442.8221974 20917.7006671\n",
      "26704.5422675 26704.5422675\n",
      "26704.5422675 24601.4107561\n",
      "26704.5422675 13718.1950746\n",
      "26704.5422675 20556.4915493\n",
      "26704.5422675 21071.3705474\n",
      "26704.5422675 20917.7006671\n",
      "24601.4107561 24601.4107561\n",
      "24601.4107561 13718.1950746\n",
      "24601.4107561 20556.4915493\n",
      "24601.4107561 21071.3705474\n",
      "24601.4107561 20917.7006671\n",
      "13718.1950746 13718.1950746\n",
      "13718.1950746 20556.4915493\n",
      "13718.1950746 21071.3705474\n",
      "13718.1950746 20917.7006671\n",
      "20556.4915493 20556.4915493\n",
      "20556.4915493 21071.3705474\n",
      "20556.4915493 20917.7006671\n",
      "21071.3705474 21071.3705474\n",
      "21071.3705474 20917.7006671\n",
      "20917.7006671 20917.7006671\n"
     ]
    }
   ],
   "source": [
    "lamb = 0.01\n",
    "res = {}\n",
    "for w in range(0,28,7):\n",
    "    graphs = [nx.read_gml('./data/taxi-2014-NTA/12/NTACycle%02dSnap0.gml'%d) for d in range(w,w+7)]\n",
    "    K = pairwise_kernels(graphs,lamb)\n",
    "    res[w] = K"
   ]
  },
  {
   "cell_type": "code",
   "execution_count": 31,
   "metadata": {},
   "outputs": [
    {
     "name": "stderr",
     "output_type": "stream",
     "text": [
      "/opt/conda/lib/python3.5/site-packages/ipykernel_launcher.py:4: RuntimeWarning: invalid value encountered in log\n",
      "  after removing the cwd from sys.path.\n"
     ]
    },
    {
     "data": {
      "image/png": "[encoded data removed]",
      "text/plain": [
       "<matplotlib.figure.Figure at 0x7f82bea48d30>"
      ]
     },
     "metadata": {},
     "output_type": "display_data"
    },
    {
     "data": {
      "image/png": "[encoded data removed]",
      "text/plain": [
       "<matplotlib.figure.Figure at 0x7f82bee8c128>"
      ]
     },
     "metadata": {},
     "output_type": "display_data"
    },
    {
     "data": {
      "image/png": "[encoded data removed]",
      "text/plain": [
       "<matplotlib.figure.Figure at 0x7f82c3d3ccc0>"
      ]
     },
     "metadata": {},
     "output_type": "display_data"
    },
    {
     "data": {
      "image/png": "[encoded data removed]",
      "text/plain": [
       "<matplotlib.figure.Figure at 0x7f82bc95dcf8>"
      ]
     },
     "metadata": {},
     "output_type": "display_data"
    }
   ],
   "source": [
    "#geometry random walk lamb = 0.00001 unnormalized\n",
    "\n",
    "for w,K in res.items():    \n",
    "    plt.matshow(np.log(K))\n",
    "    plt.colorbar()\n",
    "    plt.show()"
   ]
  },
  {
   "cell_type": "code",
   "execution_count": 25,
   "metadata": {},
   "outputs": [
    {
     "name": "stderr",
     "output_type": "stream",
     "text": [
      "/opt/conda/lib/python3.5/site-packages/ipykernel_launcher.py:2: RuntimeWarning: invalid value encountered in log\n",
      "  \n"
     ]
    },
    {
     "data": {
      "image/png": "[encoded data removed]",
      "text/plain": [
       "<matplotlib.figure.Figure at 0x7f82bd280b38>"
      ]
     },
     "metadata": {},
     "output_type": "display_data"
    },
    {
     "data": {
      "image/png": "[encoded data removed]",
      "text/plain": [
       "<matplotlib.figure.Figure at 0x7f82c0819f98>"
      ]
     },
     "metadata": {},
     "output_type": "display_data"
    },
    {
     "data": {
      "image/png": "[encoded data removed]",
      "text/plain": [
       "<matplotlib.figure.Figure at 0x7f82bb0f3438>"
      ]
     },
     "metadata": {},
     "output_type": "display_data"
    },
    {
     "data": {
      "image/png": "[encoded data removed]",
      "text/plain": [
       "<matplotlib.figure.Figure at 0x7f82bb104390>"
      ]
     },
     "metadata": {},
     "output_type": "display_data"
    }
   ],
   "source": [
    "#geometry_random_walk lamb = .01\n",
    "for w,K in res.items():    \n",
    "    plt.matshow(np.log(K))\n",
    "    plt.colorbar()\n",
    "    plt.show()"
   ]
  },
  {
   "cell_type": "code",
   "execution_count": 18,
   "metadata": {},
   "outputs": [
    {
     "data": {
      "image/png": "[encoded data removed]",
      "text/plain": [
       "<matplotlib.figure.Figure at 0x7f82bcde6c50>"
      ]
     },
     "metadata": {},
     "output_type": "display_data"
    },
    {
     "data": {
      "image/png": "[encoded data removed]",
      "text/plain": [
       "<matplotlib.figure.Figure at 0x7f82c064d0f0>"
      ]
     },
     "metadata": {},
     "output_type": "display_data"
    },
    {
     "data": {
      "image/png": "[encoded data removed]",
      "text/plain": [
       "<matplotlib.figure.Figure at 0x7f82bcf7c9b0>"
      ]
     },
     "metadata": {},
     "output_type": "display_data"
    },
    {
     "data": {
      "image/png": "[encoded data removed]",
      "text/plain": [
       "<matplotlib.figure.Figure at 0x7f82bce9dc88>"
      ]
     },
     "metadata": {},
     "output_type": "display_data"
    }
   ],
   "source": [
    "#exponential random walk lamb = .01\n",
    "for w,K in res.items():    \n",
    "    plt.matshow(np.log(K))\n",
    "    plt.colorbar()\n",
    "    plt.show()"
   ]
  },
  {
   "cell_type": "code",
   "execution_count": 20,
   "metadata": {},
   "outputs": [
    {
     "data": {
      "text/plain": [
       "array([  5.88823802e+09,   1.27487438e+08,   1.19299730e+06,\n",
       "         6.25566320e+04,   2.85994602e+04,   2.34006455e+03,\n",
       "         7.90649294e+01])"
      ]
     },
     "execution_count": 20,
     "metadata": {},
     "output_type": "execute_result"
    }
   ],
   "source": [
    "np.linalg.eigvals(K)"
   ]
  },
  {
   "cell_type": "code",
   "execution_count": 21,
   "metadata": {},
   "outputs": [
    {
     "data": {
      "text/plain": [
       "array([[  1.66757000e+07,   2.17424711e+08,   4.23481416e+07,\n",
       "          5.15685389e+07,   4.75731324e+06,   1.43412815e+06,\n",
       "          1.49007279e+06],\n",
       "       [  2.17424711e+08,   5.72832113e+09,   5.77613301e+08,\n",
       "          7.16658882e+08,   3.41168004e+07,   7.46381820e+06,\n",
       "          7.88480395e+06],\n",
       "       [  4.23481416e+07,   5.77613301e+08,   1.08096236e+08,\n",
       "          1.31828175e+08,   1.14502290e+07,   3.28726203e+06,\n",
       "          3.42941123e+06],\n",
       "       [  5.15685389e+07,   7.16658882e+08,   1.31828175e+08,\n",
       "          1.60994079e+08,   1.37184287e+07,   3.89215707e+06,\n",
       "          4.06341683e+06],\n",
       "       [  4.75731324e+06,   3.41168004e+07,   1.14502290e+07,\n",
       "          1.37184287e+07,   2.15796422e+06,   8.32118183e+05,\n",
       "          8.49401231e+05],\n",
       "       [  1.43412815e+06,   7.46381820e+06,   3.28726203e+06,\n",
       "          3.89215707e+06,   8.32118183e+05,   3.80699908e+05,\n",
       "          3.83127580e+05],\n",
       "       [  1.49007279e+06,   7.88480395e+06,   3.42941123e+06,\n",
       "          4.06341683e+06,   8.49401231e+05,   3.83127580e+05,\n",
       "          3.86218362e+05]])"
      ]
     },
     "execution_count": 21,
     "metadata": {},
     "output_type": "execute_result"
    }
   ],
   "source": [
    "K"
   ]
  },
  {
   "cell_type": "code",
   "execution_count": null,
   "metadata": {
    "collapsed": true
   },
   "outputs": [],
   "source": []
  }
 ],
 "metadata": {
  "kernelspec": {
   "display_name": "Python 3",
   "language": "python",
   "name": "python3"
  },
  "language_info": {
   "codemirror_mode": {
    "name": "ipython",
    "version": 3
   },
   "file_extension": ".py",
   "mimetype": "text/x-python",
   "name": "python",
   "nbconvert_exporter": "python",
   "pygments_lexer": "ipython3",
   "version": "3.5.2"
  }
 },
 "nbformat": 4,
 "nbformat_minor": 2
}
