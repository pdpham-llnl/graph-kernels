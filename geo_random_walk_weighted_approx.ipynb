{
 "cells": [
  {
   "cell_type": "code",
   "execution_count": 1,
   "metadata": {
    "collapsed": true
   },
   "outputs": [],
   "source": [
    "import numpy as np\n",
    "import networkx as nx\n",
    "\n",
    "import matplotlib.pyplot as plt\n",
    "%matplotlib inline"
   ]
  },
  {
   "cell_type": "code",
   "execution_count": 43,
   "metadata": {
    "collapsed": true
   },
   "outputs": [],
   "source": [
    "def kernel_unnormalized(g1, g2,lamb):\n",
    "    one = np.ones(g1.number_of_nodes())\n",
    "\n",
    "    A1 = nx.adjacency_matrix(g1.to_undirected()).todense()\n",
    "    \n",
    "    A2 = nx.adjacency_matrix(g2.to_undirected()).todense()\n",
    "\n",
    "    Lamb1,U1 = np.linalg.eigh(A1)\n",
    "    Lamb2,U2 = np.linalg.eigh(A2)\n",
    "    print(np.max(Lamb1), np.max(Lamb2))\n",
    "    \n",
    "    L = np.kron(one.transpose().dot(U1), one.transpose().dot(U2))\n",
    "    R = np.kron(U1.transpose().dot(one), U2.transpose().dot(one))\n",
    "    \n",
    "    D = 1/(1 - lamb*np.kron(Lamb1,Lamb2))\n",
    "    \n",
    "    k = L.dot(np.diag(D)).dot(R.transpose())\n",
    "    \n",
    "    return k\n",
    "\n",
    "def kernel_normalized(g1, g2,lamb):\n",
    "    one = np.ones(g1.number_of_nodes())\n",
    "\n",
    "    A1 = nx.adjacency_matrix(g1.to_undirected()).todense()\n",
    "    D1 = 1/(1 + A1.dot(one))\n",
    "    A1 = A1.dot(np.diag(1/(A1.dot(one) + 1).A.flatten()))\n",
    "    \n",
    "    A2 = nx.adjacency_matrix(g2.to_undirected()).todense()\n",
    "    A2 = A2.dot(np.diag(1/(A2.dot(one) + 1).A.flatten()))\n",
    "\n",
    "    Lamb1,U1 = np.linalg.eigh(A1)\n",
    "    Lamb2,U2 = np.linalg.eigh(A2)\n",
    "    print(np.max(Lamb1), np.max(Lamb2))\n",
    "    \n",
    "    L = np.kron(one.transpose().dot(U1), one.transpose().dot(U2))\n",
    "    R = np.kron(U1.transpose().dot(one), U2.transpose().dot(one))\n",
    "    \n",
    "    D = 1/(1 - lamb*np.kron(Lamb1,Lamb2))\n",
    "    #D = np.exp(lamb*np.kron(Lamb1,Lamb2))\n",
    "    \n",
    "    k = L.dot(np.diag(D)).dot(R.transpose())\n",
    "    \n",
    "    return k\n",
    "\n"
   ]
  },
  {
   "cell_type": "code",
   "execution_count": 44,
   "metadata": {},
   "outputs": [],
   "source": [
    "def pairwise_kernels(graphs,lamb, kernel_func):\n",
    "    n = len(graphs)\n",
    "    K = np.zeros((n,n))\n",
    "    for i in range(0,n):\n",
    "        for j in range(i,n):\n",
    "            k = kernel_func(graphs[i],graphs[j],lamb)\n",
    "            K[i,j] = k\n",
    "            K[j,i] = k\n",
    "    return K"
   ]
  },
  {
   "cell_type": "code",
   "execution_count": 49,
   "metadata": {
    "scrolled": true
   },
   "outputs": [
    {
     "name": "stdout",
     "output_type": "stream",
     "text": [
      "26211.7184388 26211.7184388\n",
      "26211.7184388 30470.14311\n",
      "26211.7184388 28426.1832211\n",
      "26211.7184388 30440.6191528\n",
      "26211.7184388 31112.5702774\n",
      "26211.7184388 31192.9407564\n",
      "26211.7184388 28055.2785312\n",
      "30470.14311 30470.14311\n",
      "30470.14311 28426.1832211\n",
      "30470.14311 30440.6191528\n",
      "30470.14311 31112.5702774\n",
      "30470.14311 31192.9407564\n",
      "30470.14311 28055.2785312\n",
      "28426.1832211 28426.1832211\n",
      "28426.1832211 30440.6191528\n",
      "28426.1832211 31112.5702774\n",
      "28426.1832211 31192.9407564\n",
      "28426.1832211 28055.2785312\n",
      "30440.6191528 30440.6191528\n",
      "30440.6191528 31112.5702774\n",
      "30440.6191528 31192.9407564\n",
      "30440.6191528 28055.2785312\n",
      "31112.5702774 31112.5702774\n",
      "31112.5702774 31192.9407564\n",
      "31112.5702774 28055.2785312\n",
      "31192.9407564 31192.9407564\n",
      "31192.9407564 28055.2785312\n",
      "28055.2785312 28055.2785312\n",
      "30357.0695792 30357.0695792\n",
      "30357.0695792 31644.0211099\n",
      "30357.0695792 29567.4356741\n",
      "30357.0695792 27766.3557493\n",
      "30357.0695792 29259.7676936\n",
      "30357.0695792 28012.2209863\n",
      "30357.0695792 25714.5698337\n",
      "31644.0211099 31644.0211099\n",
      "31644.0211099 29567.4356741\n",
      "31644.0211099 27766.3557493\n",
      "31644.0211099 29259.7676936\n",
      "31644.0211099 28012.2209863\n",
      "31644.0211099 25714.5698337\n",
      "29567.4356741 29567.4356741\n",
      "29567.4356741 27766.3557493\n",
      "29567.4356741 29259.7676936\n",
      "29567.4356741 28012.2209863\n",
      "29567.4356741 25714.5698337\n",
      "27766.3557493 27766.3557493\n",
      "27766.3557493 29259.7676936\n",
      "27766.3557493 28012.2209863\n",
      "27766.3557493 25714.5698337\n",
      "29259.7676936 29259.7676936\n",
      "29259.7676936 28012.2209863\n",
      "29259.7676936 25714.5698337\n",
      "28012.2209863 28012.2209863\n",
      "28012.2209863 25714.5698337\n",
      "25714.5698337 25714.5698337\n",
      "27258.6483706 27258.6483706\n",
      "27258.6483706 28334.4186357\n",
      "27258.6483706 29247.0797957\n",
      "27258.6483706 29839.4333047\n",
      "27258.6483706 30659.9840143\n",
      "27258.6483706 29138.5029119\n",
      "27258.6483706 26034.1609716\n",
      "28334.4186357 28334.4186357\n",
      "28334.4186357 29247.0797957\n",
      "28334.4186357 29839.4333047\n",
      "28334.4186357 30659.9840143\n",
      "28334.4186357 29138.5029119\n",
      "28334.4186357 26034.1609716\n",
      "29247.0797957 29247.0797957\n",
      "29247.0797957 29839.4333047\n",
      "29247.0797957 30659.9840143\n",
      "29247.0797957 29138.5029119\n",
      "29247.0797957 26034.1609716\n",
      "29839.4333047 29839.4333047\n",
      "29839.4333047 30659.9840143\n",
      "29839.4333047 29138.5029119\n",
      "29839.4333047 26034.1609716\n",
      "30659.9840143 30659.9840143\n",
      "30659.9840143 29138.5029119\n",
      "30659.9840143 26034.1609716\n",
      "29138.5029119 29138.5029119\n",
      "29138.5029119 26034.1609716\n",
      "26034.1609716 26034.1609716\n",
      "26443.6574216 26443.6574216\n",
      "26443.6574216 26705.3061558\n",
      "26443.6574216 24602.4421574\n",
      "26443.6574216 13719.0412382\n",
      "26443.6574216 20557.5251041\n",
      "26443.6574216 21072.7959847\n",
      "26443.6574216 20919.7736902\n",
      "26705.3061558 26705.3061558\n",
      "26705.3061558 24602.4421574\n",
      "26705.3061558 13719.0412382\n",
      "26705.3061558 20557.5251041\n",
      "26705.3061558 21072.7959847\n",
      "26705.3061558 20919.7736902\n",
      "24602.4421574 24602.4421574\n",
      "24602.4421574 13719.0412382\n",
      "24602.4421574 20557.5251041\n",
      "24602.4421574 21072.7959847\n",
      "24602.4421574 20919.7736902\n",
      "13719.0412382 13719.0412382\n",
      "13719.0412382 20557.5251041\n",
      "13719.0412382 21072.7959847\n",
      "13719.0412382 20919.7736902\n",
      "20557.5251041 20557.5251041\n",
      "20557.5251041 21072.7959847\n",
      "20557.5251041 20919.7736902\n",
      "21072.7959847 21072.7959847\n",
      "21072.7959847 20919.7736902\n",
      "20919.7736902 20919.7736902\n"
     ]
    }
   ],
   "source": [
    "lamb = 1/40000\n",
    "res = {}\n",
    "for w in range(0,28,7):\n",
    "    graphs = [nx.read_gml('./data/taxi-2014-NTA/12/NTACycle%02dSnap0.gml'%d) for d in range(w,w+7)]\n",
    "    K = pairwise_kernels(graphs,lamb,kernel_unnormalized)\n",
    "    res[w] = K"
   ]
  },
  {
   "cell_type": "code",
   "execution_count": 50,
   "metadata": {},
   "outputs": [
    {
     "name": "stdout",
     "output_type": "stream",
     "text": [
      "un_normalized 2.5e-05\n",
      "[ 807014.86267619  236062.25099564 -130682.43788315   84863.74061565\n",
      "  -20276.87288465    9230.68546362   -1717.30259099]\n"
     ]
    },
    {
     "name": "stderr",
     "output_type": "stream",
     "text": [
      "/opt/conda/lib/python3.5/site-packages/ipykernel_launcher.py:4: RuntimeWarning: invalid value encountered in log\n",
      "  after removing the cwd from sys.path.\n"
     ]
    },
    {
     "data": {
      "image/png": "[encoded data removed]",
      "text/plain": [
       "<matplotlib.figure.Figure at 0x7f82bf698f98>"
      ]
     },
     "metadata": {},
     "output_type": "display_data"
    },
    {
     "name": "stdout",
     "output_type": "stream",
     "text": [
      "[ 224622.45489015  -52282.26329534   31024.89947733   21081.78823083\n",
      "  -21329.96577491   -1008.25882986   -9022.86301312]\n"
     ]
    },
    {
     "data": {
      "image/png": "[encoded data removed]",
      "text/plain": [
       "<matplotlib.figure.Figure at 0x7f82bf3fc3c8>"
      ]
     },
     "metadata": {},
     "output_type": "display_data"
    },
    {
     "name": "stdout",
     "output_type": "stream",
     "text": [
      "[ 214080.83649148  -29544.46056505  -18472.51922381   35412.81807129\n",
      "   27498.46555326     246.7622274    12341.74806225]\n"
     ]
    },
    {
     "data": {
      "image/png": "[encoded data removed]",
      "text/plain": [
       "<matplotlib.figure.Figure at 0x7f82bf660e80>"
      ]
     },
     "metadata": {},
     "output_type": "display_data"
    },
    {
     "name": "stdout",
     "output_type": "stream",
     "text": [
      "[ 224518.24823109  -56610.50245691   42608.66594946  -25074.56444832\n",
      "  -12976.37953324    3707.7650444    20933.30278788]\n"
     ]
    },
    {
     "data": {
      "image/png": "[encoded data removed]",
      "text/plain": [
       "<matplotlib.figure.Figure at 0x7f82bfc9d668>"
      ]
     },
     "metadata": {},
     "output_type": "display_data"
    }
   ],
   "source": [
    "print('un_normalized',lamb)\n",
    "for w,K in res.items():\n",
    "    print(np.linalg.eigvals(K))\n",
    "    plt.matshow(np.log(K))\n",
    "    plt.colorbar()\n",
    "    plt.show()"
   ]
  },
  {
   "cell_type": "code",
   "execution_count": 48,
   "metadata": {},
   "outputs": [
    {
     "name": "stdout",
     "output_type": "stream",
     "text": [
      "un_normalized 0.01\n",
      "[ 206512.74292381 -140090.29218745   82067.4858317   -43198.55498872\n",
      "  -30926.17141289   12409.39399869   14455.88678499]\n"
     ]
    },
    {
     "name": "stderr",
     "output_type": "stream",
     "text": [
      "/opt/conda/lib/python3.5/site-packages/ipykernel_launcher.py:4: RuntimeWarning: invalid value encountered in log\n",
      "  after removing the cwd from sys.path.\n"
     ]
    },
    {
     "data": {
      "image/png": "[encoded data removed]",
      "text/plain": [
       "<matplotlib.figure.Figure at 0x7f82bfbc9978>"
      ]
     },
     "metadata": {},
     "output_type": "display_data"
    },
    {
     "name": "stdout",
     "output_type": "stream",
     "text": [
      "[ 115206.02244854  -44108.69836052  -22137.6083129     -441.95260293\n",
      "   13865.77319836   33300.22143435   27242.33113994]\n"
     ]
    },
    {
     "data": {
      "image/png": "[encoded data removed]",
      "text/plain": [
       "<matplotlib.figure.Figure at 0x7f82c06a3390>"
      ]
     },
     "metadata": {},
     "output_type": "display_data"
    },
    {
     "name": "stdout",
     "output_type": "stream",
     "text": [
      "[ 418753.28624764 -417476.66561845   80608.17451914  -35649.89324042\n",
      "   -1991.04482535   17732.44026067   16040.94661781]\n"
     ]
    },
    {
     "data": {
      "image/png": "[encoded data removed]",
      "text/plain": [
       "<matplotlib.figure.Figure at 0x7f82bc128c50>"
      ]
     },
     "metadata": {},
     "output_type": "display_data"
    },
    {
     "name": "stdout",
     "output_type": "stream",
     "text": [
      "[ 174155.91921827  144286.69873624 -150227.35201779  -83987.81213092\n",
      "   30298.16776844   -2277.94607778  -22320.0177208 ]\n"
     ]
    },
    {
     "data": {
      "image/png": "[encoded data removed]",
      "text/plain": [
       "<matplotlib.figure.Figure at 0x7f82ba17ad30>"
      ]
     },
     "metadata": {},
     "output_type": "display_data"
    }
   ],
   "source": [
    "print('un_normalized',lamb)\n",
    "for w,K in res.items():\n",
    "    print(np.linalg.eigvals(K))\n",
    "    plt.matshow(np.log(K))\n",
    "    plt.colorbar()\n",
    "    plt.show()"
   ]
  },
  {
   "cell_type": "code",
   "execution_count": null,
   "metadata": {
    "collapsed": true
   },
   "outputs": [],
   "source": []
  }
 ],
 "metadata": {
  "kernelspec": {
   "display_name": "Python 3",
   "language": "python",
   "name": "python3"
  },
  "language_info": {
   "codemirror_mode": {
    "name": "ipython",
    "version": 3
   },
   "file_extension": ".py",
   "mimetype": "text/x-python",
   "name": "python",
   "nbconvert_exporter": "python",
   "pygments_lexer": "ipython3",
   "version": "3.5.2"
  }
 },
 "nbformat": 4,
 "nbformat_minor": 2
}
