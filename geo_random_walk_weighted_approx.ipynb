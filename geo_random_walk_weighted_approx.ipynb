{
 "cells": [
  {
   "cell_type": "code",
   "execution_count": 29,
   "metadata": {
    "collapsed": true
   },
   "outputs": [],
   "source": [
    "import numpy as np\n",
    "from numpy.linalg import inv, eigh,eig\n",
    "import networkx as nx\n",
    "\n",
    "import matplotlib.pyplot as plt\n",
    "%matplotlib inline"
   ]
  },
  {
   "cell_type": "code",
   "execution_count": 143,
   "metadata": {
    "collapsed": true
   },
   "outputs": [],
   "source": [
    "def kernel_unnormalized(g1, g2,lamb):\n",
    "    one = np.ones(g1.number_of_nodes())\n",
    "\n",
    "    A1 = nx.adjacency_matrix(g1.to_undirected(),weight=None).todense()    \n",
    "    A2 = nx.adjacency_matrix(g2.to_undirected(),weight=None).todense()\n",
    "\n",
    "    Lamb1,U1 = eig(A1)\n",
    "    Lamb2,U2 = eig(A2)\n",
    "    \n",
    "    L = np.kron(one.transpose().dot(U1), one.transpose().dot(U2))\n",
    "    R = np.kron(U1.transpose().dot(one), U2.transpose().dot(one))\n",
    "\n",
    "    D = 1/(1 - lamb*np.kron(Lamb1,Lamb2))\n",
    "    \n",
    "    k = L.dot(np.diag(D)).dot(R.transpose())\n",
    "    \n",
    "    return k[0,0]"
   ]
  },
  {
   "cell_type": "code",
   "execution_count": 144,
   "metadata": {
    "collapsed": true
   },
   "outputs": [],
   "source": [
    "def pairwise_kernels(graphs,lamb, kernel_func):\n",
    "    n = len(graphs)\n",
    "    K = np.zeros((n,n))\n",
    "    for i in range(0,n):\n",
    "        for j in range(i,n):\n",
    "            k = kernel_func(graphs[i],graphs[j],lamb)\n",
    "            K[i,j] = k\n",
    "            K[j,i] = k\n",
    "    return K"
   ]
  },
  {
   "cell_type": "code",
   "execution_count": 149,
   "metadata": {},
   "outputs": [
    {
     "name": "stderr",
     "output_type": "stream",
     "text": [
      "/opt/conda/lib/python3.5/site-packages/ipykernel_launcher.py:7: ComplexWarning: Casting complex values to real discards the imaginary part\n",
      "  import sys\n",
      "/opt/conda/lib/python3.5/site-packages/ipykernel_launcher.py:8: ComplexWarning: Casting complex values to real discards the imaginary part\n",
      "  \n"
     ]
    }
   ],
   "source": [
    "lamb = .0001\n",
    "res = {}\n",
    "for w in range(0,28,7):\n",
    "    graphs = [nx.read_gml('./data/taxi-2014-NTA/12/NTACycle%02dSnap0.gml'%d) for d in range(w,w+7)]\n",
    "    K = pairwise_kernels(graphs,lamb,kernel_unnormalized)\n",
    "    res[w] = K"
   ]
  },
  {
   "cell_type": "code",
   "execution_count": 150,
   "metadata": {},
   "outputs": [
    {
     "name": "stdout",
     "output_type": "stream",
     "text": [
      "un_normalized 0.0001\n",
      "[  3.47975996e+05   9.35649368e+02   2.90791170e+00   3.26650159e-01\n",
      "   1.65893544e-02   6.37116509e-06   8.36328509e-05]\n"
     ]
    },
    {
     "data": {
      "image/png": "[encoded data removed]",
      "text/plain": [
       "<matplotlib.figure.Figure at 0x7f51ac7c6fd0>"
      ]
     },
     "metadata": {},
     "output_type": "display_data"
    },
    {
     "name": "stdout",
     "output_type": "stream",
     "text": [
      "[  3.47964833e+05   8.65044019e+02   4.34409186e+00   1.05571146e+00\n",
      "   6.11978363e-03   1.10906485e-03   5.01993660e-06]\n"
     ]
    },
    {
     "data": {
      "image/png": "[encoded data removed]",
      "text/plain": [
       "<matplotlib.figure.Figure at 0x7f51aab81898>"
      ]
     },
     "metadata": {},
     "output_type": "display_data"
    },
    {
     "name": "stdout",
     "output_type": "stream",
     "text": [
      "[  3.65212830e+05   1.28411613e+03   4.76876282e+00   8.48869417e-01\n",
      "   4.11238328e-03   8.70613782e-04   1.44863385e-05]\n"
     ]
    },
    {
     "data": {
      "image/png": "[encoded data removed]",
      "text/plain": [
       "<matplotlib.figure.Figure at 0x7f51b1c2ee48>"
      ]
     },
     "metadata": {},
     "output_type": "display_data"
    },
    {
     "name": "stdout",
     "output_type": "stream",
     "text": [
      "[  3.58849972e+05   1.66228284e+03   9.49360548e+00   5.57515770e-01\n",
      "   2.17479179e-02   1.56985091e-05   4.07592301e-04]\n"
     ]
    },
    {
     "data": {
      "image/png": "[encoded data removed]",
      "text/plain": [
       "<matplotlib.figure.Figure at 0x7f51b1c1e860>"
      ]
     },
     "metadata": {},
     "output_type": "display_data"
    }
   ],
   "source": [
    "print('un_normalized',lamb)\n",
    "for w,K in res.items():\n",
    "    print(np.linalg.eigvals(K))\n",
    "    plt.matshow(np.log(K))\n",
    "    plt.colorbar()\n",
    "    plt.show()"
   ]
  },
  {
   "cell_type": "code",
   "execution_count": 142,
   "metadata": {},
   "outputs": [
    {
     "name": "stdout",
     "output_type": "stream",
     "text": [
      "un_normalized 2.5e-05\n",
      "[-185020.26097226  186573.77808671   47106.19949908   37594.94445984\n",
      "  -24762.56476893     995.60492834   -2858.08142796]\n"
     ]
    },
    {
     "name": "stderr",
     "output_type": "stream",
     "text": [
      "/opt/conda/lib/python3.5/site-packages/ipykernel_launcher.py:4: RuntimeWarning: invalid value encountered in log\n",
      "  after removing the cwd from sys.path.\n"
     ]
    },
    {
     "data": {
      "image/png": "[encoded data removed]",
      "text/plain": [
       "<matplotlib.figure.Figure at 0x7f51af06dc50>"
      ]
     },
     "metadata": {},
     "output_type": "display_data"
    },
    {
     "name": "stdout",
     "output_type": "stream",
     "text": [
      "[ 223070.46993371  -68827.98290023   69313.21394491   43594.48462847\n",
      "   25417.71220717   -2393.28658294    4742.74861044]\n"
     ]
    },
    {
     "data": {
      "image/png": "[encoded data removed]",
      "text/plain": [
       "<matplotlib.figure.Figure at 0x7f51a9eea2b0>"
      ]
     },
     "metadata": {},
     "output_type": "display_data"
    },
    {
     "name": "stdout",
     "output_type": "stream",
     "text": [
      "[ 285790.32365542 -169642.90592165   94029.81542609  -35848.96040035\n",
      "   18150.01159712   -6370.49674245    2926.18586278]\n"
     ]
    },
    {
     "data": {
      "image/png": "[encoded data removed]",
      "text/plain": [
       "<matplotlib.figure.Figure at 0x7f51b18af2e8>"
      ]
     },
     "metadata": {},
     "output_type": "display_data"
    },
    {
     "name": "stdout",
     "output_type": "stream",
     "text": [
      "[ 206497.72281319   77995.83536498  -70907.00699841   32287.29797172\n",
      "    1591.8278557   -19012.12172928  -13133.35393972]\n"
     ]
    },
    {
     "data": {
      "image/png": "[encoded data removed]",
      "text/plain": [
       "<matplotlib.figure.Figure at 0x7f51b1c098d0>"
      ]
     },
     "metadata": {},
     "output_type": "display_data"
    }
   ],
   "source": [
    "print('un_normalized',lamb)\n",
    "for w,K in res.items():\n",
    "    print(np.linalg.eigvals(K))\n",
    "    plt.matshow(np.log(K))\n",
    "    plt.colorbar()\n",
    "    plt.show()"
   ]
  },
  {
   "cell_type": "code",
   "execution_count": 129,
   "metadata": {
    "collapsed": true
   },
   "outputs": [],
   "source": [
    "g=nx.read_gml('./data/taxi-2014-NTA/12/NTACycle03Snap0.gml')"
   ]
  },
  {
   "cell_type": "code",
   "execution_count": 130,
   "metadata": {
    "collapsed": true
   },
   "outputs": [],
   "source": [
    "A1 = nx.adjacency_matrix(g).todense()"
   ]
  },
  {
   "cell_type": "code",
   "execution_count": 131,
   "metadata": {
    "collapsed": true
   },
   "outputs": [],
   "source": [
    "Lamb1,U1 = np.linalg.eig(A1)"
   ]
  },
  {
   "cell_type": "code",
   "execution_count": 132,
   "metadata": {
    "collapsed": true
   },
   "outputs": [],
   "source": [
    "one = np.ones(g.number_of_nodes())"
   ]
  },
  {
   "cell_type": "code",
   "execution_count": 133,
   "metadata": {
    "collapsed": true
   },
   "outputs": [],
   "source": [
    "#U1.dot(np.diag(Lamb1)).dot(inv(U1))"
   ]
  },
  {
   "cell_type": "code",
   "execution_count": 134,
   "metadata": {},
   "outputs": [
    {
     "name": "stdout",
     "output_type": "stream",
     "text": [
      "True\n",
      "True\n",
      "True\n",
      "True\n"
     ]
    }
   ],
   "source": [
    "for i in range(g.number_of_nodes()):\n",
    "    for j in range(i+1,g.number_of_nodes()):\n",
    "        if np.linalg.norm(U1[:,i] - U1[:,j]) ==0:\n",
    "            print(True);break"
   ]
  },
  {
   "cell_type": "code",
   "execution_count": 109,
   "metadata": {},
   "outputs": [
    {
     "data": {
      "text/plain": [
       "(195, 1)"
      ]
     },
     "execution_count": 109,
     "metadata": {},
     "output_type": "execute_result"
    }
   ],
   "source": [
    "U1[:,1].shape"
   ]
  },
  {
   "cell_type": "code",
   "execution_count": null,
   "metadata": {
    "collapsed": true
   },
   "outputs": [],
   "source": []
  }
 ],
 "metadata": {
  "kernelspec": {
   "display_name": "Python 3",
   "language": "python",
   "name": "python3"
  },
  "language_info": {
   "codemirror_mode": {
    "name": "ipython",
    "version": 3
   },
   "file_extension": ".py",
   "mimetype": "text/x-python",
   "name": "python",
   "nbconvert_exporter": "python",
   "pygments_lexer": "ipython3",
   "version": "3.5.2"
  }
 },
 "nbformat": 4,
 "nbformat_minor": 2
}
